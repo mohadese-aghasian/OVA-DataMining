{
 "cells": [
  {
   "cell_type": "code",
   "execution_count": 1,
   "id": "a31d9cf3",
   "metadata": {},
   "outputs": [],
   "source": [
    "import pandas as pd \n",
    "import numpy as np"
   ]
  },
  {
   "cell_type": "code",
   "execution_count": 2,
   "id": "0c30a912",
   "metadata": {},
   "outputs": [
    {
     "data": {
      "text/plain": [
       "(400, 51)"
      ]
     },
     "execution_count": 2,
     "metadata": {},
     "output_type": "execute_result"
    }
   ],
   "source": [
    "#loading data and making data frame\n",
    "# class and 50 features\n",
    "aco=pd.read_csv(\"Acoustic Features.csv\")\n",
    "aco.shape"
   ]
  },
  {
   "cell_type": "code",
   "execution_count": null,
   "id": "5396cd10",
   "metadata": {
    "scrolled": true
   },
   "outputs": [],
   "source": [
    "#making list of class \n",
    "originalclass = list(aco['Class'])\n",
    "#print(aco)\n",
    "\n",
    "#droping class from data for scaling\n",
    "aco.drop(labels=\"Class\",axis=1, inplace=True )\n",
    "#axis=1 refers to columns and 0 to rows\n",
    "\n",
    "#print(aco)"
   ]
  },
  {
   "cell_type": "code",
   "execution_count": 5,
   "id": "49f4b2c5",
   "metadata": {},
   "outputs": [
    {
     "name": "stdout",
     "output_type": "stream",
     "text": [
      "[ 1.24344979e-16 -2.22044605e-16  7.10542736e-17  1.86517468e-16\n",
      "  4.44089210e-17  2.66453526e-17  8.88178420e-17  0.00000000e+00\n",
      "  6.43929354e-17  4.44089210e-17  0.00000000e+00  8.88178420e-18\n",
      " -8.88178420e-18 -1.55431223e-17 -8.88178420e-18 -6.66133815e-18\n",
      " -1.55431223e-17 -5.32907052e-17  0.00000000e+00 -1.24344979e-16\n",
      " -3.90798505e-16  2.10942375e-17  8.88178420e-17  1.77635684e-16\n",
      "  1.06581410e-16 -2.22044605e-16  5.32907052e-17  5.32907052e-17\n",
      " -1.06581410e-16 -8.88178420e-18 -1.11022302e-16  7.28306304e-16\n",
      "  3.55271368e-17 -3.55271368e-17 -7.99360578e-17 -1.19904087e-16\n",
      "  1.15463195e-16  1.77635684e-17  1.77635684e-17 -1.99840144e-16\n",
      "  1.46549439e-16  2.57571742e-16  2.39808173e-16  8.88178420e-17\n",
      " -3.37507799e-16  2.30926389e-16 -1.11022302e-17 -6.21724894e-17\n",
      "  2.13162821e-16 -1.10245146e-15]\n",
      "[1. 1. 1. 1. 1. 1. 1. 1. 1. 1. 1. 1. 1. 1. 1. 1. 1. 1. 1. 1. 1. 1. 1. 1.\n",
      " 1. 1. 1. 1. 1. 1. 1. 1. 1. 1. 1. 1. 1. 1. 1. 1. 1. 1. 1. 1. 1. 1. 1. 1.\n",
      " 1. 1.]\n"
     ]
    },
    {
     "data": {
      "text/plain": [
       "numpy.ndarray"
      ]
     },
     "execution_count": 5,
     "metadata": {},
     "output_type": "execute_result"
    }
   ],
   "source": [
    "from sklearn import preprocessing\n",
    "\n",
    "scaler = preprocessing.StandardScaler().fit(aco)\n",
    "aco_scaled=scaler.transform(aco)\n",
    "print(aco_scaled.mean(axis=0))\n",
    "print(aco_scaled.std(axis=0))\n",
    "# 1 refers to sample and 0 is feature\n",
    "\n",
    "type(aco_scaled) # type = ndarray \n"
   ]
  },
  {
   "cell_type": "code",
   "execution_count": 6,
   "id": "9df5c816",
   "metadata": {},
   "outputs": [
    {
     "name": "stdout",
     "output_type": "stream",
     "text": [
      "[[-1.28562787  0.73777505  0.87387422 ... -0.78271248 -2.45344953\n",
      "   0.85686847]\n",
      " [-0.15010658 -2.26106992 -0.20459929 ...  1.72377548 -0.93991736\n",
      "   0.07493527]\n",
      " [-1.37895839  1.68477873  1.5070822  ... -0.08640603 -1.07877352\n",
      "  -0.96764234]\n",
      " ...\n",
      " [ 0.81430876  0.06698078 -1.06351386 ...  1.72377548  0.68469974\n",
      "  -1.22828674]\n",
      " [ 0.08321971  0.38264867 -1.17504981 ...  1.72377548  0.57361481\n",
      "   0.59622407]\n",
      " [-0.75675494 -1.55081717 -0.7916999  ... -1.20673835  1.08738261\n",
      "  -0.44635354]]\n"
     ]
    }
   ],
   "source": [
    "print(aco_scaled)\n",
    "acoo = pd.DataFrame(data=aco_scaled,index=[i for i in range(aco_scaled.shape[0])],columns=['f'+str(i) for i in range(aco_scaled.shape[1])])\n",
    "#aco_scaled[\"Class\"]=originalclass\n",
    "acoo.insert(0,\"Class\",originalclass,True)\n",
    "#print(acoo)"
   ]
  },
  {
   "cell_type": "code",
   "execution_count": 7,
   "id": "af11b1dd",
   "metadata": {},
   "outputs": [],
   "source": [
    "#making new lists as new columns\n",
    "classrelax=[]\n",
    "classhappy=[]\n",
    "classsad=[]\n",
    "classangry=[]\n",
    "\n",
    "#creating and quantify lists\n",
    "\n",
    "# relax    \n",
    "for i in range(acoo.shape[0]):\n",
    "    if acoo.iloc[i,0]==\"relax\":\n",
    "        classrelax.append(1)\n",
    "    else :\n",
    "        classrelax.append(0)  \n",
    "#happy        \n",
    "for i in range(acoo.shape[0]):\n",
    "    if acoo.iloc[i,0]==\"happy\":\n",
    "        classhappy.append(1)\n",
    "    else :\n",
    "        classhappy.append(0)\n",
    "#sad\n",
    "for i in range(acoo.shape[0]):\n",
    "    if acoo.iloc[i,0]==\"sad\":\n",
    "        classsad.append(1)\n",
    "    else :\n",
    "        classsad.append(0)\n",
    "#angry        \n",
    "for i in range(acoo.shape[0]):\n",
    "    if acoo.iloc[i,0]==\"angry\":\n",
    "        classangry.append(1)\n",
    "    else :\n",
    "        classangry.append(0)\n",
    "        "
   ]
  },
  {
   "cell_type": "code",
   "execution_count": 8,
   "id": "dad48d23",
   "metadata": {},
   "outputs": [],
   "source": [
    "##adding list to acoo(our data)\n",
    "acoo[\"classrelax\"]=classrelax\n",
    "acoo[\"classhappy\"]=classhappy\n",
    "acoo[\"classsad\"]=classsad\n",
    "acoo[\"classangry\"]=classangry\n"
   ]
  },
  {
   "cell_type": "code",
   "execution_count": 9,
   "id": "b5920367",
   "metadata": {},
   "outputs": [],
   "source": [
    "#spliting data to train and test\n",
    "from sklearn.model_selection import train_test_split\n",
    "train , test = train_test_split(acoo , test_size=0.3, random_state=1)"
   ]
  },
  {
   "cell_type": "code",
   "execution_count": 10,
   "id": "2d32cc51",
   "metadata": {},
   "outputs": [
    {
     "name": "stdout",
     "output_type": "stream",
     "text": [
      "(280, 55)\n",
      "(120, 54)\n",
      "(280, 54)\n",
      "<class 'pandas.core.frame.DataFrame'>\n"
     ]
    }
   ],
   "source": [
    "#specifying feature and target\n",
    "\n",
    "x_train = train.iloc[:,1:] \n",
    "x_test = test.iloc[:,1:]\n",
    "\n",
    "\n",
    "# relax = 1\n",
    "y1_train =x_train[\"classrelax\"]\n",
    "y1_test = x_test[\"classrelax\"]\n",
    "##happy = 2\n",
    "y2_train=x_train[\"classhappy\"]\n",
    "y2_test=x_test[\"classhappy\"]\n",
    "# sad = 3\n",
    "y3_train=x_train[\"classsad\"]\n",
    "y3_test=x_test[\"classsad\"]\n",
    "# angry = 4\n",
    "y4_train=x_train[\"classangry\"]\n",
    "y4_test=x_test[\"classangry\"]\n",
    "\n",
    "#######\n",
    "print(train.shape)\n",
    "print(x_test.shape)\n",
    "print(x_train.shape)\n",
    "print(type(x_train))"
   ]
  },
  {
   "cell_type": "code",
   "execution_count": 11,
   "id": "e50653d6",
   "metadata": {},
   "outputs": [],
   "source": [
    "from sklearn.linear_model import LogisticRegression\n",
    "clsfrelax=LogisticRegression()\n",
    "clsfhappy=LogisticRegression()\n",
    "clsfsad=LogisticRegression()\n",
    "clsfangry=LogisticRegression()"
   ]
  },
  {
   "cell_type": "code",
   "execution_count": 12,
   "id": "f0dd4022",
   "metadata": {},
   "outputs": [
    {
     "data": {
      "text/plain": [
       "LogisticRegression()"
      ]
     },
     "execution_count": 12,
     "metadata": {},
     "output_type": "execute_result"
    }
   ],
   "source": [
    "#fitting classifier and train\n",
    "clsfrelax.fit(x_train,y1_train)\n",
    "clsfhappy.fit(x_train,y2_train)\n",
    "clsfsad.fit(x_train,y3_train)\n",
    "clsfangry.fit(x_train,y4_train)"
   ]
  },
  {
   "cell_type": "code",
   "execution_count": 13,
   "id": "83ebb559",
   "metadata": {},
   "outputs": [
    {
     "data": {
      "image/png": "[encoded data removed]",
      "text/plain": [
       "<Figure size 432x288 with 2 Axes>"
      ]
     },
     "metadata": {
      "needs_background": "light"
     },
     "output_type": "display_data"
    },
    {
     "name": "stdout",
     "output_type": "stream",
     "text": [
      "relax:\n",
      "{'Accuracy': 0.9916666666666667, 'Precision': 1.0, 'Sensitivity_recall': 0.9655172413793104, 'F1_score': 0.9824561403508771}\n"
     ]
    },
    {
     "data": {
      "image/png": "[encoded data removed]",
      "text/plain": [
       "<Figure size 432x288 with 2 Axes>"
      ]
     },
     "metadata": {
      "needs_background": "light"
     },
     "output_type": "display_data"
    },
    {
     "name": "stdout",
     "output_type": "stream",
     "text": [
      "happy:\n",
      "{'Accuracy': 1.0, 'Precision': 1.0, 'Sensitivity_recall': 1.0, 'F1_score': 1.0}\n"
     ]
    },
    {
     "data": {
      "image/png": "[encoded data removed]",
      "text/plain": [
       "<Figure size 432x288 with 2 Axes>"
      ]
     },
     "metadata": {
      "needs_background": "light"
     },
     "output_type": "display_data"
    },
    {
     "name": "stdout",
     "output_type": "stream",
     "text": [
      "sad:\n",
      "{'Accuracy': 1.0, 'Precision': 1.0, 'Sensitivity_recall': 1.0, 'F1_score': 1.0}\n"
     ]
    },
    {
     "data": {
      "image/png": "[encoded data removed]",
      "text/plain": [
       "<Figure size 432x288 with 2 Axes>"
      ]
     },
     "metadata": {
      "needs_background": "light"
     },
     "output_type": "display_data"
    },
    {
     "name": "stdout",
     "output_type": "stream",
     "text": [
      "angry:\n",
      "{'Accuracy': 0.9916666666666667, 'Precision': 1.0, 'Sensitivity_recall': 0.9696969696969697, 'F1_score': 0.9846153846153847}\n"
     ]
    }
   ],
   "source": [
    "from sklearn import metrics \n",
    "import matplotlib.pyplot as plt\n",
    "#relax\n",
    "predicted_r=clsfrelax.predict(x_test) #ndarray\n",
    "actual_r=y1_test\n",
    "confusion_matrix_r = metrics.confusion_matrix(actual_r, predicted_r)\n",
    "cm_display_r = metrics.ConfusionMatrixDisplay(confusion_matrix = confusion_matrix_r, display_labels = [True, False])\n",
    "cm_display_r.plot()\n",
    "plt.show()\n",
    "\n",
    "Accuracy_r = metrics.accuracy_score(actual_r, predicted_r)\n",
    "Precision_r = metrics.precision_score(actual_r, predicted_r)\n",
    "Sensitivity_recall_r = metrics.recall_score(actual_r, predicted_r)\n",
    "F1_score_r = metrics.f1_score(actual_r, predicted_r)\n",
    "print(\"relax:\")\n",
    "print({\"Accuracy\":Accuracy_r,\"Precision\":Precision_r,\"Sensitivity_recall\":Sensitivity_recall_r,\"F1_score\":F1_score_r}) \n",
    "\n",
    "#happy\n",
    "predicted_h=clsfhappy.predict(x_test)\n",
    "actual_h=y2_test\n",
    "confusion_matrix_h = metrics.confusion_matrix(actual_h, predicted_h)\n",
    "cm_display_h = metrics.ConfusionMatrixDisplay(confusion_matrix = confusion_matrix_h, display_labels = [False, True])\n",
    "cm_display_h.plot()\n",
    "plt.show() \n",
    "\n",
    "Accuracy_h = metrics.accuracy_score(actual_h, predicted_h)\n",
    "Precision_h = metrics.precision_score(actual_h, predicted_h)\n",
    "Sensitivity_recall_h = metrics.recall_score(actual_h, predicted_h)\n",
    "F1_score_h = metrics.f1_score(actual_h, predicted_h)\n",
    "print(\"happy:\")\n",
    "print({\"Accuracy\":Accuracy_h,\"Precision\":Precision_h,\"Sensitivity_recall\":Sensitivity_recall_h,\"F1_score\":F1_score_h}) \n",
    "\n",
    "#sad\n",
    "predicted_s=clsfsad.predict(x_test)\n",
    "actual_s=y3_test\n",
    "confusion_matrix_s = metrics.confusion_matrix(actual_s, predicted_s)\n",
    "cm_display_s = metrics.ConfusionMatrixDisplay(confusion_matrix = confusion_matrix_s, display_labels = [False, True])\n",
    "cm_display_s.plot()\n",
    "plt.show() \n",
    "\n",
    "Accuracy_s = metrics.accuracy_score(actual_s, predicted_s)\n",
    "Precision_s = metrics.precision_score(actual_s, predicted_s)\n",
    "Sensitivity_recall_s = metrics.recall_score(actual_s, predicted_s)\n",
    "F1_score_s = metrics.f1_score(actual_s, predicted_s)\n",
    "print(\"sad:\")\n",
    "print({\"Accuracy\":Accuracy_s,\"Precision\":Precision_s,\"Sensitivity_recall\":Sensitivity_recall_s,\"F1_score\":F1_score_s}) \n",
    "\n",
    "#angry\n",
    "predicted_a=clsfangry.predict(x_test)\n",
    "actual_a=y4_test\n",
    "confusion_matrix_a = metrics.confusion_matrix(actual_a, predicted_a)\n",
    "cm_display_a = metrics.ConfusionMatrixDisplay(confusion_matrix = confusion_matrix_a, display_labels = [False, True])\n",
    "cm_display_a.plot()\n",
    "plt.show()\n",
    "\n",
    "Accuracy_a = metrics.accuracy_score(actual_a, predicted_a)\n",
    "Precision_a = metrics.precision_score(actual_a, predicted_a)\n",
    "Sensitivity_recall_a = metrics.recall_score(actual_a, predicted_a)\n",
    "F1_score_a = metrics.f1_score(actual_a, predicted_a)\n",
    "print(\"angry:\")\n",
    "print({\"Accuracy\":Accuracy_a,\"Precision\":Precision_a,\"Sensitivity_recall\":Sensitivity_recall_a,\"F1_score\":F1_score_a}) \n"
   ]
  },
  {
   "cell_type": "code",
   "execution_count": 91,
   "id": "96d531b0",
   "metadata": {},
   "outputs": [],
   "source": [
    "def whichclass(item):\n",
    "    wcdict={}\n",
    "    wcdict[\"realx\"]=clsfrelax.predict_proba(item)[0,[1]][0]\n",
    "    wcdict[\"happy\"]=clsfhappy.predict_proba(item)[0,[1]][0]\n",
    "    wcdict[\"sad\"]=clsfsad.predict_proba(item)[0,[1]][0]\n",
    "    wcdict[\"angry\"]=clsfangry.predict_proba(item)[0,[1]][0]\n",
    "    oficlclass=max(wcdict,key=wcdict.get)\n",
    "    return oficlclass"
   ]
  },
  {
   "cell_type": "code",
   "execution_count": 84,
   "id": "824da613",
   "metadata": {},
   "outputs": [
    {
     "name": "stdout",
     "output_type": "stream",
     "text": [
      "happy\n",
      "           f0        f1        f2        f3        f4        f5        f6  \\\n",
      "125  1.172076  0.244544 -0.173861  1.234428 -0.008046 -0.621546  0.519765   \n",
      "\n",
      "           f7        f8        f9  ...       f44       f45       f46  \\\n",
      "125 -0.771215 -0.209746 -0.571539  ...  0.122406 -0.361393 -1.202949   \n",
      "\n",
      "          f47       f48       f49  classrelax  classhappy  classsad  \\\n",
      "125 -0.086406  0.393102  0.856868           0           1         0   \n",
      "\n",
      "     classangry  \n",
      "125           0  \n",
      "\n",
      "[1 rows x 54 columns]\n"
     ]
    }
   ],
   "source": [
    "# range from 0:1 to 119:120\n",
    "print(whichclass(x_test.iloc[[1]]))\n",
    "print(x_test.iloc[[1]])\n",
    "#print(x_test[65:66])"
   ]
  },
  {
   "cell_type": "code",
   "execution_count": null,
   "id": "c9f98fe9",
   "metadata": {},
   "outputs": [],
   "source": []
  }
 ],
 "metadata": {
  "kernelspec": {
   "display_name": "Python 3 (ipykernel)",
   "language": "python",
   "name": "python3"
  },
  "language_info": {
   "codemirror_mode": {
    "name": "ipython",
    "version": 3
   },
   "file_extension": ".py",
   "mimetype": "text/x-python",
   "name": "python",
   "nbconvert_exporter": "python",
   "pygments_lexer": "ipython3",
   "version": "3.9.12"
  }
 },
 "nbformat": 4,
 "nbformat_minor": 5
}
