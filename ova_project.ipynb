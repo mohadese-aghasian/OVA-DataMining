{
 "cells": [
  {
   "cell_type": "code",
   "execution_count": 63,
   "id": "93f02a4f",
   "metadata": {},
   "outputs": [],
   "source": [
    "import pandas as pd \n",
    "import numpy as np"
   ]
  },
  {
   "cell_type": "code",
   "execution_count": 64,
   "id": "13eb5fdc",
   "metadata": {
    "scrolled": true
   },
   "outputs": [
    {
     "data": {
      "text/plain": [
       "(400, 51)"
      ]
     },
     "execution_count": 64,
     "metadata": {},
     "output_type": "execute_result"
    }
   ],
   "source": [
    "aco=pd.read_csv(\"Acoustic Features.csv\")\n",
    "aco.shape\n",
    "#aco.info()"
   ]
  },
  {
   "cell_type": "code",
   "execution_count": 65,
   "id": "61ea199b",
   "metadata": {},
   "outputs": [],
   "source": [
    "classrelax=[]\n",
    "classhappy=[]\n",
    "classsad=[]\n",
    "classangry=[]\n",
    "\n",
    "#creating and quantify lists\n",
    "\n",
    "# relax    \n",
    "for i in range(aco.shape[0]):\n",
    "    if aco.iloc[i,0]==\"relax\":\n",
    "        classrelax.append(1)\n",
    "    else :\n",
    "        classrelax.append(0)  \n",
    "#happy        \n",
    "for i in range(aco.shape[0]):\n",
    "    if aco.iloc[i,0]==\"happy\":\n",
    "        classhappy.append(1)\n",
    "    else :\n",
    "        classhappy.append(0)\n",
    "#sad\n",
    "for i in range(aco.shape[0]):\n",
    "    if aco.iloc[i,0]==\"sad\":\n",
    "        classsad.append(1)\n",
    "    else :\n",
    "        classsad.append(0)\n",
    "#angry        \n",
    "for i in range(aco.shape[0]):\n",
    "    if aco.iloc[i,0]==\"angry\":\n",
    "        classangry.append(1)\n",
    "    else :\n",
    "        classangry.append(0)\n",
    "        \n",
    "# For printing more than one columns\n",
    "#   print(df.iloc[i, [0, 2]])     "
   ]
  },
  {
   "cell_type": "code",
   "execution_count": 66,
   "id": "afeebe7d",
   "metadata": {},
   "outputs": [],
   "source": [
    "##adding list to aco(our data)\n",
    "aco[\"classrelax\"]=classrelax\n",
    "aco[\"classhappy\"]=classhappy\n",
    "aco[\"classsad\"]=classsad\n",
    "aco[\"classangry\"]=classangry\n"
   ]
  },
  {
   "cell_type": "code",
   "execution_count": 67,
   "id": "f167f3e6",
   "metadata": {},
   "outputs": [],
   "source": [
    "#spliting data to train and test\n",
    "from sklearn.model_selection import train_test_split\n",
    "train , test = train_test_split(aco , test_size=0.3, random_state=1)"
   ]
  },
  {
   "cell_type": "code",
   "execution_count": 68,
   "id": "433765c0",
   "metadata": {},
   "outputs": [],
   "source": [
    "#specifying feature and target\n",
    "\n",
    "x_train = train.iloc[:,1:] \n",
    "x_test = test.iloc[:,1:]\n",
    "\n",
    "\n",
    "# relax = 1\n",
    "y1_train =x_train[\"classrelax\"]\n",
    "y1_test = x_test[\"classrelax\"]\n",
    "##happy = 2\n",
    "y2_train=x_train[\"classhappy\"]\n",
    "y2_test=x_test[\"classhappy\"]\n",
    "# sad = 3\n",
    "y3_train=x_train[\"classsad\"]\n",
    "y3_test=x_test[\"classsad\"]\n",
    "# angry = 4\n",
    "y4_train=x_train[\"classangry\"]\n",
    "y4_test=x_test[\"classangry\"]"
   ]
  },
  {
   "cell_type": "code",
   "execution_count": 69,
   "id": "a24d8038",
   "metadata": {
    "scrolled": false
   },
   "outputs": [
    {
     "name": "stdout",
     "output_type": "stream",
     "text": [
      "(280, 55)\n",
      "(120, 54)\n",
      "(280, 54)\n",
      "<class 'pandas.core.frame.DataFrame'>\n"
     ]
    }
   ],
   "source": [
    "print(train.shape)\n",
    "print(x_test.shape)\n",
    "print(x_train.shape)\n",
    "print(type(x_train))"
   ]
  },
  {
   "cell_type": "code",
   "execution_count": 70,
   "id": "40152ec8",
   "metadata": {},
   "outputs": [],
   "source": [
    "# from sklearn.linear_model import LogisticRegression\n",
    "# clsfrelax=LogisticRegression()\n",
    "# clsfhappy=LogisticRegression()\n",
    "# clsfsad=LogisticRegression()\n",
    "# clsfangry=LogisticRegression()"
   ]
  },
  {
   "cell_type": "code",
   "execution_count": 71,
   "id": "65d68538",
   "metadata": {},
   "outputs": [],
   "source": [
    "from sklearn import tree\n",
    "clsfrelax=tree.DecisionTreeClassifier()\n",
    "clsfhappy=tree.DecisionTreeClassifier()\n",
    "clsfsad=tree.DecisionTreeClassifier()\n",
    "clsfangry=tree.DecisionTreeClassifier()"
   ]
  },
  {
   "cell_type": "code",
   "execution_count": 72,
   "id": "3f29aae5",
   "metadata": {},
   "outputs": [
    {
     "data": {
      "text/plain": [
       "DecisionTreeClassifier()"
      ]
     },
     "execution_count": 72,
     "metadata": {},
     "output_type": "execute_result"
    }
   ],
   "source": [
    "#fitting classifier and train\n",
    "clsfrelax.fit(x_train,y1_train)\n",
    "clsfhappy.fit(x_train,y2_train)\n",
    "clsfsad.fit(x_train,y3_train)\n",
    "clsfangry.fit(x_train,y4_train)"
   ]
  },
  {
   "cell_type": "code",
   "execution_count": 73,
   "id": "83eab23e",
   "metadata": {
    "scrolled": false
   },
   "outputs": [
    {
     "name": "stdout",
     "output_type": "stream",
     "text": [
      "[0 1 0 0 1 0 1 0 0 0 1 0 1 0 0 0 0 0 0 0 1 0 0 0 0 0 0 0 0 0 0 0 1 0 0 0 0\n",
      " 1 0 1 0 0 1 0 0 0 0 0 0 0 0 0 0 0 0 0 0 1 0 0 1 0 0 0 0 0 1 0 0 0 0 0 0 0\n",
      " 0 0 0 1 1 0 0 0 0 0 0 0 0 0 0 1 1 0 0 0 1 0 0 0 0 1 0 0 1 0 0 0 0 0 0 0 1\n",
      " 0 0 0 1 0 0 0 1 0]\n",
      "[[1. 0.]\n",
      " [0. 1.]\n",
      " [1. 0.]\n",
      " [1. 0.]\n",
      " [0. 1.]\n",
      " [1. 0.]\n",
      " [0. 1.]\n",
      " [1. 0.]\n",
      " [1. 0.]\n",
      " [1. 0.]]\n",
      "1.0\n",
      "1.0\n",
      "1.0\n"
     ]
    }
   ],
   "source": [
    "\n",
    "# print(clsfrelax.predict(x_test))\n",
    "# print(clsfhappy.predict(x_test))\n",
    "# print(clsfrelax.predict_proba(x_test[0:10]))\n",
    "# print(clsfhappy.predict_proba(x_test[0:10]))\n",
    "\n",
    "# score and prediction\n",
    "print(clsfhappy.predict(x_test))\n",
    "print(clsfhappy.predict_proba(x_test[0:10]))\n",
    "print(clsfrelax.score(x_test,y1_test))\n",
    "print(clsfrelax.score(x_test,y1_test))\n",
    "print(clsfsad.score(x_test,y3_test))"
   ]
  },
  {
   "cell_type": "code",
   "execution_count": 74,
   "id": "f595176b",
   "metadata": {
    "scrolled": false
   },
   "outputs": [
    {
     "data": {
      "image/png": "[encoded data removed]",
      "text/plain": [
       "<Figure size 432x288 with 2 Axes>"
      ]
     },
     "metadata": {
      "needs_background": "light"
     },
     "output_type": "display_data"
    },
    {
     "name": "stdout",
     "output_type": "stream",
     "text": [
      "relax:\n",
      "{'Accuracy': 1.0, 'Precision': 1.0, 'Sensitivity_recall': 1.0, 'F1_score': 1.0}\n"
     ]
    },
    {
     "data": {
      "image/png": "[encoded data removed]",
      "text/plain": [
       "<Figure size 432x288 with 2 Axes>"
      ]
     },
     "metadata": {
      "needs_background": "light"
     },
     "output_type": "display_data"
    },
    {
     "name": "stdout",
     "output_type": "stream",
     "text": [
      "happy:\n",
      "{'Accuracy': 1.0, 'Precision': 1.0, 'Sensitivity_recall': 1.0, 'F1_score': 1.0}\n"
     ]
    },
    {
     "data": {
      "image/png": "[encoded data removed]",
      "text/plain": [
       "<Figure size 432x288 with 2 Axes>"
      ]
     },
     "metadata": {
      "needs_background": "light"
     },
     "output_type": "display_data"
    },
    {
     "name": "stdout",
     "output_type": "stream",
     "text": [
      "sad:\n",
      "{'Accuracy': 1.0, 'Precision': 1.0, 'Sensitivity_recall': 1.0, 'F1_score': 1.0}\n"
     ]
    },
    {
     "data": {
      "image/png": "[encoded data removed]",
      "text/plain": [
       "<Figure size 432x288 with 2 Axes>"
      ]
     },
     "metadata": {
      "needs_background": "light"
     },
     "output_type": "display_data"
    },
    {
     "name": "stdout",
     "output_type": "stream",
     "text": [
      "angry:\n",
      "{'Accuracy': 1.0, 'Precision': 1.0, 'Sensitivity_recall': 1.0, 'F1_score': 1.0}\n"
     ]
    }
   ],
   "source": [
    "from sklearn import metrics \n",
    "import matplotlib.pyplot as plt\n",
    "#relax\n",
    "predicted_r=clsfrelax.predict(x_test)\n",
    "actual_r=y1_test\n",
    "confusion_matrix_r = metrics.confusion_matrix(actual_r, predicted_r)\n",
    "cm_display_r = metrics.ConfusionMatrixDisplay(confusion_matrix = confusion_matrix_r, display_labels = [False, True])\n",
    "cm_display_r.plot()\n",
    "plt.show()\n",
    "\n",
    "Accuracy_r = metrics.accuracy_score(actual_r, predicted_r)\n",
    "Precision_r = metrics.precision_score(actual_r, predicted_r)\n",
    "Sensitivity_recall_r = metrics.recall_score(actual_r, predicted_r)\n",
    "F1_score_r = metrics.f1_score(actual_r, predicted_r)\n",
    "print(\"relax:\")\n",
    "print({\"Accuracy\":Accuracy_r,\"Precision\":Precision_r,\"Sensitivity_recall\":Sensitivity_recall_r,\"F1_score\":F1_score_r}) \n",
    "\n",
    "#happy\n",
    "predicted_h=clsfhappy.predict(x_test)\n",
    "actual_h=y2_test\n",
    "confusion_matrix_h = metrics.confusion_matrix(actual_h, predicted_h)\n",
    "cm_display_h = metrics.ConfusionMatrixDisplay(confusion_matrix = confusion_matrix_h, display_labels = [False, True])\n",
    "cm_display_h.plot()\n",
    "plt.show() \n",
    "\n",
    "Accuracy_h = metrics.accuracy_score(actual_h, predicted_h)\n",
    "Precision_h = metrics.precision_score(actual_h, predicted_h)\n",
    "Sensitivity_recall_h = metrics.recall_score(actual_h, predicted_h)\n",
    "F1_score_h = metrics.f1_score(actual_h, predicted_h)\n",
    "print(\"happy:\")\n",
    "print({\"Accuracy\":Accuracy_h,\"Precision\":Precision_h,\"Sensitivity_recall\":Sensitivity_recall_h,\"F1_score\":F1_score_h}) \n",
    "\n",
    "#sad\n",
    "predicted_s=clsfsad.predict(x_test)\n",
    "actual_s=y3_test\n",
    "confusion_matrix_s = metrics.confusion_matrix(actual_s, predicted_s)\n",
    "cm_display_s = metrics.ConfusionMatrixDisplay(confusion_matrix = confusion_matrix_s, display_labels = [False, True])\n",
    "cm_display_s.plot()\n",
    "plt.show() \n",
    "\n",
    "Accuracy_s = metrics.accuracy_score(actual_s, predicted_s)\n",
    "Precision_s = metrics.precision_score(actual_s, predicted_s)\n",
    "Sensitivity_recall_s = metrics.recall_score(actual_s, predicted_s)\n",
    "F1_score_s = metrics.f1_score(actual_s, predicted_s)\n",
    "print(\"sad:\")\n",
    "print({\"Accuracy\":Accuracy_s,\"Precision\":Precision_s,\"Sensitivity_recall\":Sensitivity_recall_s,\"F1_score\":F1_score_s}) \n",
    "\n",
    "#angry\n",
    "predicted_a=clsfangry.predict(x_test)\n",
    "actual_a=y4_test\n",
    "confusion_matrix_a = metrics.confusion_matrix(actual_a, predicted_a)\n",
    "cm_display_a = metrics.ConfusionMatrixDisplay(confusion_matrix = confusion_matrix_a, display_labels = [False, True])\n",
    "cm_display_a.plot()\n",
    "plt.show()\n",
    "\n",
    "Accuracy_a = metrics.accuracy_score(actual_a, predicted_a)\n",
    "Precision_a = metrics.precision_score(actual_a, predicted_a)\n",
    "Sensitivity_recall_a = metrics.recall_score(actual_a, predicted_a)\n",
    "F1_score_a = metrics.f1_score(actual_a, predicted_a)\n",
    "print(\"angry:\")\n",
    "print({\"Accuracy\":Accuracy_a,\"Precision\":Precision_a,\"Sensitivity_recall\":Sensitivity_recall_a,\"F1_score\":F1_score_a}) \n"
   ]
  },
  {
   "cell_type": "code",
   "execution_count": 75,
   "id": "f7b5ab58",
   "metadata": {},
   "outputs": [],
   "source": [
    "def whichclass(item):\n",
    "    wcdict={}\n",
    "    wcdict[\"realx\"]=clsfrelax.predict_proba(item)[0,[1]][0]\n",
    "    wcdict[\"happy\"]=clsfhappy.predict_proba(item)[0,[1]][0]\n",
    "    wcdict[\"sad\"]=clsfsad.predict_proba(item)[0,[1]][0]\n",
    "    wcdict[\"angry\"]=clsfangry.predict_proba(item)[0,[1]][0]\n",
    "    oficlclass=max(wcdict,key=wcdict.get)\n",
    "    return oficlclass"
   ]
  },
  {
   "cell_type": "code",
   "execution_count": 76,
   "id": "6c453a66",
   "metadata": {
    "scrolled": false
   },
   "outputs": [
    {
     "name": "stdout",
     "output_type": "stream",
     "text": [
      "realx\n",
      "    _RMSenergy_Mean  _Lowenergy_Mean  _Fluctuation_Mean  _Tempo_Mean  \\\n",
      "85            0.101            0.526              5.742       98.662   \n",
      "\n",
      "    _MFCC_Mean_1  _MFCC_Mean_2  _MFCC_Mean_3  _MFCC_Mean_4  _MFCC_Mean_5  \\\n",
      "85          4.46         0.396         0.065        -0.668        -0.277   \n",
      "\n",
      "    _MFCC_Mean_6  ...  _HarmonicChangeDetectionFunction_Mean  \\\n",
      "85        -0.062  ...                                   0.28   \n",
      "\n",
      "    _HarmonicChangeDetectionFunction_Std  \\\n",
      "85                                 0.212   \n",
      "\n",
      "    _HarmonicChangeDetectionFunction_Slope  \\\n",
      "85                                  -0.091   \n",
      "\n",
      "    _HarmonicChangeDetectionFunction_PeriodFreq  \\\n",
      "85                                        0.384   \n",
      "\n",
      "    _HarmonicChangeDetectionFunction_PeriodAmp  \\\n",
      "85                                       0.677   \n",
      "\n",
      "    _HarmonicChangeDetectionFunction_PeriodEntropy  classrelax  classhappy  \\\n",
      "85                                           0.962           1           0   \n",
      "\n",
      "    classsad  classangry  \n",
      "85         0           0  \n",
      "\n",
      "[1 rows x 54 columns]\n"
     ]
    }
   ],
   "source": [
    "# range from 0:1 to 119:120\n",
    "\n",
    "print(whichclass(x_test.iloc[[45]]))\n",
    "print(x_test.iloc[[45]])\n",
    "#print(x_test[65:66])"
   ]
  },
  {
   "cell_type": "code",
   "execution_count": null,
   "id": "ccce8914",
   "metadata": {},
   "outputs": [],
   "source": []
  }
 ],
 "metadata": {
  "kernelspec": {
   "display_name": "Python 3 (ipykernel)",
   "language": "python",
   "name": "python3"
  },
  "language_info": {
   "codemirror_mode": {
    "name": "ipython",
    "version": 3
   },
   "file_extension": ".py",
   "mimetype": "text/x-python",
   "name": "python",
   "nbconvert_exporter": "python",
   "pygments_lexer": "ipython3",
   "version": "3.9.12"
  }
 },
 "nbformat": 4,
 "nbformat_minor": 5
}
